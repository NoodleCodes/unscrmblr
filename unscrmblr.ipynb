{
 "cells": [
  {
   "cell_type": "code",
   "execution_count": 2,
   "metadata": {},
   "outputs": [
    {
     "name": "stdout",
     "output_type": "stream",
     "text": [
      "Unscrambled words:\n",
      "INDIAN\n",
      "LAID\n",
      "DIALING\n",
      "AIDA\n",
      "DIDI\n",
      "LAND\n",
      "INDIANA\n",
      "LIGAND\n",
      "BAND\n",
      "DALI\n",
      "DIGGING\n",
      "IDLING\n",
      "BLDG\n",
      "DIAN\n",
      "BALD\n",
      "GILD\n",
      "AIDING\n",
      "INLAND\n",
      "DIANA\n",
      "DILL\n",
      "LINDA\n",
      "INDIA\n",
      "BALDING\n",
      "ADLAI\n",
      "DIAL\n",
      "IDAL\n",
      "LANDING\n",
      "BANDING\n",
      "GLAND\n",
      "GLAD\n",
      "BINDING\n",
      "ADDING\n",
      "INLAID\n",
      "BIND\n",
      "BIDDING\n",
      "ADNAN\n",
      "DIDN\n",
      "ILIAD\n",
      "BLIND\n",
      "DABBING\n",
      "ABIDING\n",
      "BALLAD\n",
      "DANG\n",
      "DINING\n",
      "DANA\n",
      "BLAND\n"
     ]
    }
   ],
   "source": [
    "import nltk\n",
    "import string\n",
    "import itertools\n",
    "import nltk.corpus\n",
    "from nltk.corpus import brown\n",
    "\n",
    "scrambled_word = input(\"Enter a scrambled word:\")\n",
    "key_letter = input('Input key letter:')\n",
    " \n",
    "tokens = []\n",
    "for sentence in brown.sents():\n",
    "    for word in nltk.word_tokenize(' '.join(sentence)):\n",
    "        tokens.append(word.upper())       \n",
    "\n",
    "stripped_tokens = [word.strip() for word in tokens]\n",
    "\n",
    "stripped_brown = nltk.Text(stripped_tokens)\n",
    "\n",
    "def generate_words(scrambled_word):\n",
    "    words = []\n",
    "    for word in stripped_brown:\n",
    "        if set(word).issubset(set(scrambled_word)) and len(word) <= len(scrambled_word) and len(word) >=4 and key_letter in word:\n",
    "            words.append(word)\n",
    "    return list(set(words))\n",
    "\n",
    "possible_words = generate_words(scrambled_word)\n",
    "\n",
    "print('Unscrambled words:')\n",
    "for word in possible_words:\n",
    "    print(word)"
   ]
  },
  {
   "cell_type": "code",
   "execution_count": null,
   "metadata": {},
   "outputs": [],
   "source": []
  }
 ],
 "metadata": {
  "kernelspec": {
   "display_name": "Python 3",
   "language": "python",
   "name": "python3"
  },
  "language_info": {
   "codemirror_mode": {
    "name": "ipython",
    "version": 3
   },
   "file_extension": ".py",
   "mimetype": "text/x-python",
   "name": "python",
   "nbconvert_exporter": "python",
   "pygments_lexer": "ipython3",
   "version": "3.11.3"
  },
  "orig_nbformat": 4
 },
 "nbformat": 4,
 "nbformat_minor": 2
}
